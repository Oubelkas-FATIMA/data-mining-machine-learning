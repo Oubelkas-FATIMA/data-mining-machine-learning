{
 "cells": [
  {
   "cell_type": "markdown",
   "id": "83fbd0ef",
   "metadata": {},
   "source": [
    "# <center> Web Scraping using Selenium \n",
    "    \n",
    "## <center> Available iphones on ebay.fr"
   ]
  },
  {
   "cell_type": "markdown",
   "id": "cbdf55e2",
   "metadata": {},
   "source": [
    "Some characteristics of HTML scraping with Selenium it:\n",
    "- can handle javascript, \n",
    "- get HTML back after the Javascript has been rendered,\n",
    "- can behave like a person, though it can be slow.\n",
    "\n",
    "Requirements (one of the below):\n",
    "\n",
    "Firefox + geckodriver (https://github.com/mozilla/geckodriver/releases)\n",
    "    \n",
    "    \n",
    "Chrome + chromedriver (https://sites.google.com/a/chromium.org/chromedriver/)"
   ]
  },
  {
   "cell_type": "markdown",
   "id": "fd897209",
   "metadata": {},
   "source": [
    "## Install"
   ]
  },
  {
   "cell_type": "markdown",
   "id": "805f9ab5",
   "metadata": {},
   "source": [
    "                                          \n",
    "- Install selenium \n",
    "- download Chrome WebDriver (or geckodriver) and put it in the some locatin of your program\n"
   ]
  },
  {
   "cell_type": "markdown",
   "id": "3bca60fe",
   "metadata": {},
   "source": [
    "## Import "
   ]
  },
  {
   "cell_type": "code",
   "execution_count": 1,
   "id": "e2aeb862",
   "metadata": {},
   "outputs": [],
   "source": [
    "#!pip install selenium"
   ]
  },
  {
   "cell_type": "code",
   "execution_count": 2,
   "id": "7c5ccf57",
   "metadata": {},
   "outputs": [],
   "source": [
    "from time import sleep\n",
    "from selenium import webdriver\n",
    "from selenium.webdriver.common.by import By"
   ]
  },
  {
   "cell_type": "code",
   "execution_count": 3,
   "id": "46708bad",
   "metadata": {},
   "outputs": [],
   "source": [
    "# Open the driver (change the executable path to geckodriver_mac.exe or geckodriver.exe)\n",
    "driver = webdriver.Chrome('chromedriver')\n"
   ]
  },
  {
   "cell_type": "code",
   "execution_count": 4,
   "id": "0195319d",
   "metadata": {},
   "outputs": [],
   "source": [
    "driver.set_window_size(1500,800)"
   ]
  },
  {
   "cell_type": "code",
   "execution_count": 5,
   "id": "5a5eac88",
   "metadata": {},
   "outputs": [],
   "source": [
    "# The first thing you’ll want to do with WebDriver is navigate to a link.\n",
    "#The normal way to do this is by calling get method to eBay.fr with our research request in this case iphones\n",
    "driver.get(\"https://www.ebay.fr/sch/15032/i.html?_from=R40&_nkw=iphones+\")\n",
    " \n",
    "# En fonction de notre connection et des performance de notre machine il faudra attendre\n",
    "# que la page charge avant de passer à la suite\n",
    "#sleep(10) # causes the program to pause for 10 seconds"
   ]
  },
  {
   "cell_type": "markdown",
   "id": "32362160",
   "metadata": {},
   "source": [
    "## Localise data"
   ]
  },
  {
   "cell_type": "code",
   "execution_count": 6,
   "id": "33dbfc52",
   "metadata": {},
   "outputs": [],
   "source": [
    "# the xpath_expression is written as followed: '//tag[@attribute=value]\n",
    "results = driver.find_elements(By.XPATH, '//li[@class=\"s-item s-item__pl-on-bottom\"]')"
   ]
  },
  {
   "cell_type": "code",
   "execution_count": 7,
   "id": "9ce0034f",
   "metadata": {},
   "outputs": [
    {
     "data": {
      "text/plain": [
       "60"
      ]
     },
     "execution_count": 7,
     "metadata": {},
     "output_type": "execute_result"
    }
   ],
   "source": [
    "len(results)"
   ]
  },
  {
   "cell_type": "code",
   "execution_count": 8,
   "id": "20ea2a81",
   "metadata": {},
   "outputs": [
    {
     "data": {
      "text/plain": [
       "[<selenium.webdriver.remote.webelement.WebElement (session=\"b2c14ca9864cfc826a6267667604cdb5\", element=\"2acc96e1-61de-4199-b9d2-46d66286af8a\")>,\n",
       " <selenium.webdriver.remote.webelement.WebElement (session=\"b2c14ca9864cfc826a6267667604cdb5\", element=\"85add2d0-9af2-4270-8b2c-3f31a5cdb0bc\")>,\n",
       " <selenium.webdriver.remote.webelement.WebElement (session=\"b2c14ca9864cfc826a6267667604cdb5\", element=\"b2eb0a8a-93b9-468a-9c69-8a3dca5ae618\")>,\n",
       " <selenium.webdriver.remote.webelement.WebElement (session=\"b2c14ca9864cfc826a6267667604cdb5\", element=\"1b6e3c48-611b-4553-8a1d-49d00d5262cf\")>,\n",
       " <selenium.webdriver.remote.webelement.WebElement (session=\"b2c14ca9864cfc826a6267667604cdb5\", element=\"4d1eb4f9-1580-4ef2-a525-57c9c047d865\")>,\n",
       " <selenium.webdriver.remote.webelement.WebElement (session=\"b2c14ca9864cfc826a6267667604cdb5\", element=\"48d64594-ae44-4db9-9c35-425be5d9493c\")>,\n",
       " <selenium.webdriver.remote.webelement.WebElement (session=\"b2c14ca9864cfc826a6267667604cdb5\", element=\"0c5d3259-b0fe-43d4-bf68-16d24d9a3c20\")>,\n",
       " <selenium.webdriver.remote.webelement.WebElement (session=\"b2c14ca9864cfc826a6267667604cdb5\", element=\"88a3b863-1fa1-4be3-9fcd-39c2e0df84dc\")>,\n",
       " <selenium.webdriver.remote.webelement.WebElement (session=\"b2c14ca9864cfc826a6267667604cdb5\", element=\"29b83673-dc69-4510-b705-334829f943bc\")>,\n",
       " <selenium.webdriver.remote.webelement.WebElement (session=\"b2c14ca9864cfc826a6267667604cdb5\", element=\"8260459e-4705-40a5-a708-b1f9b3f0f8f0\")>,\n",
       " <selenium.webdriver.remote.webelement.WebElement (session=\"b2c14ca9864cfc826a6267667604cdb5\", element=\"5cb7a3c2-ab7c-4f8a-b9d4-ba9fee2eabdf\")>,\n",
       " <selenium.webdriver.remote.webelement.WebElement (session=\"b2c14ca9864cfc826a6267667604cdb5\", element=\"48da3932-5db6-490d-a878-4ac469be0d01\")>,\n",
       " <selenium.webdriver.remote.webelement.WebElement (session=\"b2c14ca9864cfc826a6267667604cdb5\", element=\"4b965639-4ad3-4eb5-9d4d-b5a25a9b25fe\")>,\n",
       " <selenium.webdriver.remote.webelement.WebElement (session=\"b2c14ca9864cfc826a6267667604cdb5\", element=\"f2649c6c-910f-4c10-a4a8-e745f615539a\")>,\n",
       " <selenium.webdriver.remote.webelement.WebElement (session=\"b2c14ca9864cfc826a6267667604cdb5\", element=\"ccab66c4-fe1d-40e7-a39a-94a0f7a963be\")>,\n",
       " <selenium.webdriver.remote.webelement.WebElement (session=\"b2c14ca9864cfc826a6267667604cdb5\", element=\"eb03278f-8378-4d5b-b899-f6d3f53fc256\")>,\n",
       " <selenium.webdriver.remote.webelement.WebElement (session=\"b2c14ca9864cfc826a6267667604cdb5\", element=\"59981616-723c-4167-ae6b-bb94e9b36416\")>,\n",
       " <selenium.webdriver.remote.webelement.WebElement (session=\"b2c14ca9864cfc826a6267667604cdb5\", element=\"460ac094-e336-4f5e-a29e-bd16f0c313ee\")>,\n",
       " <selenium.webdriver.remote.webelement.WebElement (session=\"b2c14ca9864cfc826a6267667604cdb5\", element=\"6a95bb52-5988-420e-a390-492b7ff47b64\")>,\n",
       " <selenium.webdriver.remote.webelement.WebElement (session=\"b2c14ca9864cfc826a6267667604cdb5\", element=\"80065fa5-7343-433b-a23b-5f9d914bb4bf\")>,\n",
       " <selenium.webdriver.remote.webelement.WebElement (session=\"b2c14ca9864cfc826a6267667604cdb5\", element=\"8a9e0640-c73b-423d-a592-55dca04e46e5\")>,\n",
       " <selenium.webdriver.remote.webelement.WebElement (session=\"b2c14ca9864cfc826a6267667604cdb5\", element=\"af3a4fd6-7793-4ed7-80eb-1f1c16bc268d\")>,\n",
       " <selenium.webdriver.remote.webelement.WebElement (session=\"b2c14ca9864cfc826a6267667604cdb5\", element=\"d39ab740-4db7-4317-9075-e543fc1b47f0\")>,\n",
       " <selenium.webdriver.remote.webelement.WebElement (session=\"b2c14ca9864cfc826a6267667604cdb5\", element=\"9529c5ed-e675-4ef9-b613-53d4916c9fba\")>,\n",
       " <selenium.webdriver.remote.webelement.WebElement (session=\"b2c14ca9864cfc826a6267667604cdb5\", element=\"d15b9713-2b96-4be9-b052-09424e494d48\")>,\n",
       " <selenium.webdriver.remote.webelement.WebElement (session=\"b2c14ca9864cfc826a6267667604cdb5\", element=\"aa312274-2188-4205-a424-d1d36fd3ab31\")>,\n",
       " <selenium.webdriver.remote.webelement.WebElement (session=\"b2c14ca9864cfc826a6267667604cdb5\", element=\"6fd28299-795b-4007-aa1b-39fd86494c4c\")>,\n",
       " <selenium.webdriver.remote.webelement.WebElement (session=\"b2c14ca9864cfc826a6267667604cdb5\", element=\"6f1bab89-3a75-429e-975a-ea75f35f2705\")>,\n",
       " <selenium.webdriver.remote.webelement.WebElement (session=\"b2c14ca9864cfc826a6267667604cdb5\", element=\"d0a82f3e-3b6a-4e90-93b5-1004d0a183ad\")>,\n",
       " <selenium.webdriver.remote.webelement.WebElement (session=\"b2c14ca9864cfc826a6267667604cdb5\", element=\"0b8ac028-3a80-4d0c-bdec-89bfb61d0cf6\")>,\n",
       " <selenium.webdriver.remote.webelement.WebElement (session=\"b2c14ca9864cfc826a6267667604cdb5\", element=\"38bc161b-ee0b-4b4f-8ecf-9c16b3bdda88\")>,\n",
       " <selenium.webdriver.remote.webelement.WebElement (session=\"b2c14ca9864cfc826a6267667604cdb5\", element=\"1358b9ec-15a8-4509-aa77-ce09ebe93552\")>,\n",
       " <selenium.webdriver.remote.webelement.WebElement (session=\"b2c14ca9864cfc826a6267667604cdb5\", element=\"1cb30d82-c34b-45bd-86ed-d60659239cf5\")>,\n",
       " <selenium.webdriver.remote.webelement.WebElement (session=\"b2c14ca9864cfc826a6267667604cdb5\", element=\"73d0cdd1-f3db-4fa2-9a84-7d16c9aacff1\")>,\n",
       " <selenium.webdriver.remote.webelement.WebElement (session=\"b2c14ca9864cfc826a6267667604cdb5\", element=\"08093193-1359-44ac-a2e7-7fe5b01b85c9\")>,\n",
       " <selenium.webdriver.remote.webelement.WebElement (session=\"b2c14ca9864cfc826a6267667604cdb5\", element=\"a2ca3e82-9281-495c-a1bb-daeefa39ba00\")>,\n",
       " <selenium.webdriver.remote.webelement.WebElement (session=\"b2c14ca9864cfc826a6267667604cdb5\", element=\"9296f34a-936e-4e0d-aa24-20a47a7e966d\")>,\n",
       " <selenium.webdriver.remote.webelement.WebElement (session=\"b2c14ca9864cfc826a6267667604cdb5\", element=\"f17b5027-1e11-4347-8d26-96e1087877a9\")>,\n",
       " <selenium.webdriver.remote.webelement.WebElement (session=\"b2c14ca9864cfc826a6267667604cdb5\", element=\"d5980e7a-fc35-423c-9b4f-857778d2757b\")>,\n",
       " <selenium.webdriver.remote.webelement.WebElement (session=\"b2c14ca9864cfc826a6267667604cdb5\", element=\"c621b9b0-0c5e-4ff7-a1b8-da6a74bdd1af\")>,\n",
       " <selenium.webdriver.remote.webelement.WebElement (session=\"b2c14ca9864cfc826a6267667604cdb5\", element=\"c885655f-066d-4850-8615-2795325df7e9\")>,\n",
       " <selenium.webdriver.remote.webelement.WebElement (session=\"b2c14ca9864cfc826a6267667604cdb5\", element=\"f419fbe7-dcfd-4283-94d8-c174fe448677\")>,\n",
       " <selenium.webdriver.remote.webelement.WebElement (session=\"b2c14ca9864cfc826a6267667604cdb5\", element=\"cf584c8a-d015-4260-97a4-f79bd3ec8734\")>,\n",
       " <selenium.webdriver.remote.webelement.WebElement (session=\"b2c14ca9864cfc826a6267667604cdb5\", element=\"2bd4315f-2074-4249-9ac4-b86adf1239d7\")>,\n",
       " <selenium.webdriver.remote.webelement.WebElement (session=\"b2c14ca9864cfc826a6267667604cdb5\", element=\"7bc34aea-b50a-446f-9e48-3ce71f40d277\")>,\n",
       " <selenium.webdriver.remote.webelement.WebElement (session=\"b2c14ca9864cfc826a6267667604cdb5\", element=\"2fa72323-a59c-48cc-9de7-8c998b56ce3b\")>,\n",
       " <selenium.webdriver.remote.webelement.WebElement (session=\"b2c14ca9864cfc826a6267667604cdb5\", element=\"98347225-75ed-4818-8cb9-3e7c30c47af4\")>,\n",
       " <selenium.webdriver.remote.webelement.WebElement (session=\"b2c14ca9864cfc826a6267667604cdb5\", element=\"b0cc6df2-a37b-4d58-af36-cc51814ce947\")>,\n",
       " <selenium.webdriver.remote.webelement.WebElement (session=\"b2c14ca9864cfc826a6267667604cdb5\", element=\"6ba15346-76dc-4dfd-ad6c-fa3468c660bd\")>,\n",
       " <selenium.webdriver.remote.webelement.WebElement (session=\"b2c14ca9864cfc826a6267667604cdb5\", element=\"f91a99c8-b17a-42b7-ab47-760b5d22a16a\")>,\n",
       " <selenium.webdriver.remote.webelement.WebElement (session=\"b2c14ca9864cfc826a6267667604cdb5\", element=\"2e918f16-affb-4f38-9439-8586469177bb\")>,\n",
       " <selenium.webdriver.remote.webelement.WebElement (session=\"b2c14ca9864cfc826a6267667604cdb5\", element=\"8983c7c8-ad8f-484c-a656-318026ad9896\")>,\n",
       " <selenium.webdriver.remote.webelement.WebElement (session=\"b2c14ca9864cfc826a6267667604cdb5\", element=\"1b464b35-2983-48e2-b183-d10e88464a66\")>,\n",
       " <selenium.webdriver.remote.webelement.WebElement (session=\"b2c14ca9864cfc826a6267667604cdb5\", element=\"d302f0de-a4dc-4e96-8a2b-c1530cb2736a\")>,\n",
       " <selenium.webdriver.remote.webelement.WebElement (session=\"b2c14ca9864cfc826a6267667604cdb5\", element=\"c38ed171-6c05-4681-9887-27b9402e2e3d\")>,\n",
       " <selenium.webdriver.remote.webelement.WebElement (session=\"b2c14ca9864cfc826a6267667604cdb5\", element=\"65faf653-ba90-4e61-abbf-ea757b8105ec\")>,\n",
       " <selenium.webdriver.remote.webelement.WebElement (session=\"b2c14ca9864cfc826a6267667604cdb5\", element=\"0c253c31-3104-4a52-8a84-2f3c460ff068\")>,\n",
       " <selenium.webdriver.remote.webelement.WebElement (session=\"b2c14ca9864cfc826a6267667604cdb5\", element=\"b583bd55-7e00-4a34-9fb7-924bc3e2e468\")>,\n",
       " <selenium.webdriver.remote.webelement.WebElement (session=\"b2c14ca9864cfc826a6267667604cdb5\", element=\"b9de99be-f5dd-41f9-b6d8-ddeee60cb870\")>,\n",
       " <selenium.webdriver.remote.webelement.WebElement (session=\"b2c14ca9864cfc826a6267667604cdb5\", element=\"53e05733-d825-40c2-967d-48b16ddb6a63\")>]"
      ]
     },
     "execution_count": 8,
     "metadata": {},
     "output_type": "execute_result"
    }
   ],
   "source": [
    "results"
   ]
  },
  {
   "cell_type": "code",
   "execution_count": 9,
   "id": "49b997dd",
   "metadata": {},
   "outputs": [],
   "source": [
    "for offer in results:\n",
    "    pass"
   ]
  },
  {
   "cell_type": "code",
   "execution_count": 10,
   "id": "deb19caa",
   "metadata": {},
   "outputs": [
    {
     "data": {
      "text/plain": [
       "\"APPLE IPHONE 12 64GB BLU RICONDIZIONATO MOLTO BUONO + 12 MESI DI GARANZIA\\nLa page s'ouvre dans une nouvelle fenêtre ou un nouvel onglet\\nTrès bon état - Reconditionné | Pro\\n385,00 EUR\\nVendeur Top Fiabilité\\nVendeur Top Fiabilité\\nou Faire une offre\\njjtech2020 (1 293) 98,5%\\nLivraison non spécifiée\\nde Italie\\nSuivi par 14 personnes\\nSponsorisé\""
      ]
     },
     "execution_count": 10,
     "metadata": {},
     "output_type": "execute_result"
    }
   ],
   "source": [
    "offer.text"
   ]
  },
  {
   "cell_type": "code",
   "execution_count": 11,
   "id": "b815c6bd",
   "metadata": {},
   "outputs": [],
   "source": [
    "# Get the name of the product\n",
    "# \".\" : selects the current node\n",
    "#\"//\" : Selects nodes in the document from the current node that match the selection no matter where they are\n",
    "title = offer.find_element(By.XPATH,'.//span[@aria-level=\"3\"]')"
   ]
  },
  {
   "cell_type": "code",
   "execution_count": 12,
   "id": "35f9a7ae",
   "metadata": {},
   "outputs": [
    {
     "name": "stdout",
     "output_type": "stream",
     "text": [
      "Title :  APPLE IPHONE 12 64GB BLU RICONDIZIONATO MOLTO BUONO + 12 MESI DI GARANZIA\n"
     ]
    }
   ],
   "source": [
    "print(\"Title : \",title.text)"
   ]
  },
  {
   "cell_type": "code",
   "execution_count": 13,
   "id": "7b685899",
   "metadata": {},
   "outputs": [
    {
     "name": "stdout",
     "output_type": "stream",
     "text": [
      "Image link :  https://i.ebayimg.com/thumbs/images/g/dYEAAOSwdUJjba5G/s-l225.webp\n"
     ]
    }
   ],
   "source": [
    "# Get the img link\n",
    "image = offer.find_element(By.XPATH,\".//img\").get_attribute(\"src\")\n",
    "print(\"Image link : \",image)"
   ]
  },
  {
   "cell_type": "code",
   "execution_count": 14,
   "id": "65f8bc69",
   "metadata": {},
   "outputs": [
    {
     "name": "stdout",
     "output_type": "stream",
     "text": [
      "Price:  385,00 EUR\n"
     ]
    }
   ],
   "source": [
    "# Get the price of the product \n",
    "price = offer.find_element(By.CLASS_NAME,\"s-item__price\").text\n",
    "print(\"Price: \",price)"
   ]
  },
  {
   "cell_type": "code",
   "execution_count": null,
   "id": "dec2ce4e",
   "metadata": {},
   "outputs": [],
   "source": []
  },
  {
   "cell_type": "markdown",
   "id": "58123099",
   "metadata": {},
   "source": [
    "## Interacting with the page"
   ]
  },
  {
   "cell_type": "markdown",
   "id": "e617beff",
   "metadata": {},
   "source": [
    "### Clicking Next Page Using Selenium"
   ]
  },
  {
   "cell_type": "code",
   "execution_count": 15,
   "id": "a769749c",
   "metadata": {},
   "outputs": [],
   "source": [
    "next_page= driver.find_element(By.CLASS_NAME,\"pagination__next\")"
   ]
  },
  {
   "cell_type": "code",
   "execution_count": null,
   "id": "410812db",
   "metadata": {},
   "outputs": [],
   "source": []
  },
  {
   "cell_type": "code",
   "execution_count": 16,
   "id": "24069dec",
   "metadata": {},
   "outputs": [
    {
     "data": {
      "text/plain": [
       "<selenium.webdriver.remote.webelement.WebElement (session=\"b2c14ca9864cfc826a6267667604cdb5\", element=\"533a3051-c3c1-425c-b6ca-b26b8a0d5803\")>"
      ]
     },
     "execution_count": 16,
     "metadata": {},
     "output_type": "execute_result"
    }
   ],
   "source": [
    "next_page"
   ]
  },
  {
   "cell_type": "code",
   "execution_count": 17,
   "id": "d1cc5858",
   "metadata": {},
   "outputs": [],
   "source": [
    "next_page.click()"
   ]
  },
  {
   "cell_type": "markdown",
   "id": "ac9723bf",
   "metadata": {},
   "source": [
    "### fillin in forms "
   ]
  },
  {
   "cell_type": "markdown",
   "id": "4d0af727",
   "metadata": {},
   "source": [
    "On recupère, grâce au selecteur de Selenium, l’élément qui correspond au champ « recherche ». Pour trouver le bon élément il faut inspecter la page. "
   ]
  },
  {
   "cell_type": "code",
   "execution_count": null,
   "id": "d603eb17",
   "metadata": {},
   "outputs": [],
   "source": [
    "from selenium.webdriver.common.keys import Keys"
   ]
  },
  {
   "cell_type": "code",
   "execution_count": null,
   "id": "be3bfc83",
   "metadata": {},
   "outputs": [],
   "source": [
    "# On recupere la bar de recherche, on la remplit avec \"iphone\" puis on appuie \"Entrez\"\n",
    "search_bar = driver.find_element(By.NAME,\"_nkw\")\n",
    "search_bar.clear()\n",
    "search_bar.send_keys(\"Sumsung\")\n",
    "search_bar.send_keys(Keys.ENTER)"
   ]
  },
  {
   "cell_type": "code",
   "execution_count": null,
   "id": "55c9d4cb",
   "metadata": {},
   "outputs": [],
   "source": [
    "driver.quit()"
   ]
  },
  {
   "cell_type": "code",
   "execution_count": null,
   "id": "bc8340dd",
   "metadata": {},
   "outputs": [],
   "source": []
  }
 ],
 "metadata": {
  "kernelspec": {
   "display_name": "Python 3",
   "language": "python",
   "name": "python3"
  },
  "language_info": {
   "codemirror_mode": {
    "name": "ipython",
    "version": 3
   },
   "file_extension": ".py",
   "mimetype": "text/x-python",
   "name": "python",
   "nbconvert_exporter": "python",
   "pygments_lexer": "ipython3",
   "version": "3.11.1"
  },
  "vscode": {
   "interpreter": {
    "hash": "84265baa5a8d0ec3cc1bcf95aab08682f0a35836406bba89c4e22f177197a6ca"
   }
  }
 },
 "nbformat": 4,
 "nbformat_minor": 5
}
